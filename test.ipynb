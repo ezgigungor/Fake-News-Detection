{
  "nbformat": 4,
  "nbformat_minor": 0,
  "metadata": {
    "kernelspec": {
      "display_name": "Python 3",
      "language": "python",
      "name": "python3"
    },
    "language_info": {
      "codemirror_mode": {
        "name": "ipython",
        "version": 3
      },
      "file_extension": ".py",
      "mimetype": "text/x-python",
      "name": "python",
      "nbconvert_exporter": "python",
      "pygments_lexer": "ipython3",
      "version": "3.7.3"
    },
    "colab": {
      "name": "test.ipynb",
      "provenance": [],
      "include_colab_link": true
    }
  },
  "cells": [
    {
      "cell_type": "markdown",
      "metadata": {
        "id": "view-in-github",
        "colab_type": "text"
      },
      "source": [
        "<a href=\"https://colab.research.google.com/github/ezgigungor/Fake-News-Detection/blob/main/test.ipynb\" target=\"_parent\"><img src=\"https://colab.research.google.com/assets/colab-badge.svg\" alt=\"Open In Colab\"/></a>"
      ]
    },
    {
      "cell_type": "code",
      "metadata": {
        "id": "QN3K7KoEnAbb"
      },
      "source": [
        "import numpy as np\n",
        "import pandas as pd\n",
        "import operator\n",
        "import re\n",
        "from collections import Counter\n",
        "#import sklearn as sl\n",
        "#from sklearn.feature_extraction.text import ENGLISH_STOP_WORDS\n",
        "\n",
        "df =  pd.read_csv(\"fake_news_train.csv\")\n",
        "\n",
        "df_train = df.sample(frac=0.8,random_state=200)\n",
        "df_validation = df.drop(df_train.index)\n",
        "\n",
        "df_validation_text = df_validation['title'].fillna(\"\")\n",
        "\n",
        "df_real = df_train[df_train['label'] == 0]\n",
        "df_fake = df_train[df_train['label'] == 1]\n",
        "\n",
        "df_real_headlines = df_real['title'].fillna(\"\")\n",
        "df_fake_headlines = df_fake['title'].fillna(\"\")\n",
        "df_fake_text = df_fake['text'].fillna(\"\")\n",
        "df_real_text = df_real['text'].fillna(\"\")\n",
        "\n",
        "stop_words = set(('-', '–','—', '\\nthe','\\\"' ,'”', '\\r', '\\r\\n', '\\t', '\\n','', 'ourselves', 'hers', 'between', 'yourself', 'but', 'again', 'there', 'about', 'once', 'during', 'out', 'very', 'having', 'with', 'they', 'own', 'an', 'be', 'some', 'for', 'do', 'its', 'yours', 'such', 'into', 'of', 'most', 'itself', 'other', 'off', 'is', 's', 'am', 'or', 'who', 'as', 'from', 'him', 'each', 'the', 'themselves', 'until', 'below', 'are', 'we', 'these', 'your', 'his', 'through', 'don', 'nor', 'me', 'were', 'her', 'more', 'himself', 'this', 'down', 'should', 'our', 'their', 'while', 'above', 'both', 'up', 'to', 'ours', 'had', 'she', 'all', 'no', 'when', 'at', 'any', 'before', 'them', 'same', 'and', 'been', 'have', 'in', 'will', 'on', 'does', 'yourselves', 'then', 'that', 'because', 'what', 'over', 'why', 'so', 'can', 'did', 'not', 'now', 'under', 'he', 'you', 'herself', 'has', 'just', 'where', 'too', 'only', 'myself', 'which', 'those', 'i', 'after', 'few', 'whom', 't', 'being', 'if', 'theirs', 'my', 'against', 'a', 'by', 'doing', 'it', 'how', 'further', 'was', 'here', 'than'))"
      ],
      "execution_count": null,
      "outputs": []
    },
    {
      "cell_type": "code",
      "metadata": {
        "id": "rQ8vDXhFnAbb"
      },
      "source": [
        "uni_all = {} \n",
        "uni_real = {} \n",
        "uni_fake = {} \n",
        "\n",
        "bi_all = {} \n",
        "bi_real = {}  \n",
        "bi_fake = {} \n",
        "\n",
        "word_counts = []\n",
        "fake_counts = []\n",
        "real_counts = []\n",
        "fake_line = 0\n",
        "real_line = 0\n"
      ],
      "execution_count": null,
      "outputs": []
    },
    {
      "cell_type": "code",
      "metadata": {
        "id": "Tcn0u1s9nAbb"
      },
      "source": [
        "for key,value in df_fake_headlines.iteritems():\n",
        "    fake_line += 1\n",
        "    line = value\n",
        "    line = line.rstrip(\"\\n\")\n",
        "    line = line.lower()\n",
        "    line = line.split(\" \")\n",
        "    for word in line:\n",
        "        word1 = re.sub('[,.-?!\"\\']', '', word)\n",
        "        if word1 not in stop_words:\n",
        "            word_counts.append(word1)\n",
        "            if word1 not in uni_fake.keys():\n",
        "                uni_fake[word1] = 1\n",
        "            else:\n",
        "                uni_fake[word1] += 1\n",
        "            if word1 not in uni_all.keys():\n",
        "                uni_all[word1] = 1\n",
        "            else:\n",
        "                uni_all[word1] += 1\n",
        "    for i in range(len(line)-1):\n",
        "        word1 = re.sub('[,.-?!\"\\']', '', line[i])\n",
        "        word2 = re.sub('[,.-?!\"\\']', '', line[i+1])\n",
        "        if word1 in stop_words:\n",
        "            continue\n",
        "        if word2 in stop_words:\n",
        "            continue\n",
        "        bi = word1,word2\n",
        "        bi = line[i],line[i+1]\n",
        "        if bi not in bi_fake.keys():\n",
        "            bi_fake[bi] = 1\n",
        "        else:\n",
        "            bi_fake[bi] += 1\n",
        "        if  bi not in bi_all.keys():\n",
        "            bi_all[bi] = 1\n",
        "        else:\n",
        "            bi_all[bi] += 1\n",
        "\n",
        "\n",
        "for key,value in df_real_headlines.iteritems():\n",
        "    real_line += 1\n",
        "    line = value\n",
        "    line = line.lower()\n",
        "    line = line.rstrip(\"\\n\")\n",
        "    line = line.split(\" \")\n",
        "    for word in line:\n",
        "        word1 = re.sub('[,.-?!\"\\']', '', word)\n",
        "        if word1 not in stop_words:\n",
        "            word_counts.append(word1)\n",
        "            if word1 not in uni_real.keys():\n",
        "                uni_real[word1] = 1\n",
        "            else:\n",
        "                uni_real[word1] += 1\n",
        "            if word1 not in uni_all.keys():\n",
        "                uni_all[word1] = 1\n",
        "            else:\n",
        "                uni_all[word1] += 1\n",
        "    for i in range(len(line)-1):\n",
        "        word1 = re.sub('[,.-?!\"\\']', '', line[i])\n",
        "        word2 = re.sub('[,.-?!\"\\']', '', line[i+1])\n",
        "        if word1 in stop_words:\n",
        "            continue\n",
        "        if word2 in stop_words:\n",
        "            continue\n",
        "        bi = word1,word2\n",
        "        if bi not in bi_real.keys():\n",
        "            bi_real[bi] = 1\n",
        "        else:\n",
        "            bi_real[bi] += 1\n",
        "        if  bi not in bi_all.keys():\n",
        "            bi_all[bi] = 1\n",
        "        else:\n",
        "            bi_all[bi] += 1\n"
      ],
      "execution_count": null,
      "outputs": []
    },
    {
      "cell_type": "code",
      "metadata": {
        "id": "9qLs8ZslnAbb",
        "outputId": "26b291d7-5fad-4f4e-efde-bf789c9c7b1a"
      },
      "source": [
        "\n",
        "freqs=list(uni_real.values())\n",
        "freqs.sort()\n",
        "freqs.reverse()\n",
        "top=freqs[:3]\n",
        "\n",
        "# Top 3 words in the headlines of real articles\n",
        "for c in uni_real:\n",
        "    if uni_real[c] in top:\n",
        "        print(c)\n"
      ],
      "execution_count": null,
      "outputs": [
        {
          "output_type": "stream",
          "text": [
            "new\n",
            "york\n",
            "times\n"
          ],
          "name": "stdout"
        }
      ]
    },
    {
      "cell_type": "code",
      "metadata": {
        "id": "vZbRVwnmnAbc",
        "outputId": "7327f747-dfac-43b1-e973-1eb9c294174b"
      },
      "source": [
        "freqs=list(uni_fake.values())\n",
        "freqs.sort()\n",
        "freqs.reverse()\n",
        "top=freqs[:3]\n",
        "\n",
        "# Top 3 words in the headlines of fake articles\n",
        "for c in uni_fake:\n",
        "    if uni_fake[c] in top:\n",
        "        print(c)\n",
        "\n"
      ],
      "execution_count": null,
      "outputs": [
        {
          "output_type": "stream",
          "text": [
            "clinton\n",
            "trump\n",
            "hillary\n"
          ],
          "name": "stdout"
        }
      ]
    },
    {
      "cell_type": "markdown",
      "metadata": {
        "id": "Sb3TVehsnAbc"
      },
      "source": [
        "#### PART 2\n"
      ]
    },
    {
      "cell_type": "code",
      "metadata": {
        "id": "qgwsP2h2nAbd"
      },
      "source": [
        "uni_all = {} \n",
        "uni_real = {} \n",
        "uni_fake = {} \n",
        "\n",
        "bi_all = {} \n",
        "bi_real = {}  \n",
        "bi_fake = {}\n",
        "\n",
        "word_counts = []\n",
        "fake_line = 0\n",
        "real_line = 0\n"
      ],
      "execution_count": null,
      "outputs": []
    },
    {
      "cell_type": "code",
      "metadata": {
        "id": "IVGwC_6dnAbd"
      },
      "source": [
        "# Uni-gram & bi-gram implementation\n",
        "\n",
        "for key,value in df_fake_text.iteritems():\n",
        "    fake_line += 1\n",
        "    line = value\n",
        "    line = line.rstrip(\"\\n\")\n",
        "    line = line.lower()\n",
        "    fake_counts.append(line)\n",
        "    line = line.split(\" \")\n",
        "    for word in line:\n",
        "        word1 = re.sub('[,.-?!\"\\']', '', word)\n",
        "        if word not in stop_words:\n",
        "            word_counts.append(word1)\n",
        "            if word1 not in uni_fake.keys():\n",
        "                uni_fake[word1] = 1\n",
        "            else:\n",
        "                uni_fake[word1] += 1\n",
        "            if word1 not in uni_all.keys():\n",
        "                uni_all[word1] = 1\n",
        "            else:\n",
        "                uni_all[word1] += 1\n",
        "    for i in range(len(line)-1):\n",
        "        word1 = re.sub('[,.-?!\"\\']', '', line[i])\n",
        "        word2 = re.sub('[,.-?!\"\\']', '', line[i+1])\n",
        "        if word1 in stop_words:\n",
        "            continue\n",
        "        if word2 in stop_words:\n",
        "            continue\n",
        "        bi = word1,word2\n",
        "        if bi not in bi_fake.keys():\n",
        "            bi_fake[bi] = 1\n",
        "        else:\n",
        "            bi_fake[bi] += 1\n",
        "        if  bi not in bi_all.keys():\n",
        "            bi_all[bi] = 1\n",
        "        else:\n",
        "            bi_all[bi] += 1\n",
        "\n",
        "\n",
        "for key,value in df_real_text.iteritems():\n",
        "    real_line += 1\n",
        "    line = value\n",
        "    line = line.lower()\n",
        "    line = line.rstrip(\"\\n\")\n",
        "    real_counts.append(line)\n",
        "    line = line.split(\" \")\n",
        "    for word in line:\n",
        "        word1 = re.sub('[,.-?!\"\\']', '', word)\n",
        "        if word1 not in stop_words:\n",
        "            word_counts.append(word1)\n",
        "            if word1 not in uni_real.keys():\n",
        "                uni_real[word1] = 1\n",
        "            else:\n",
        "                uni_real[word1] += 1\n",
        "\n",
        "            if word1 not in uni_all.keys():\n",
        "                uni_all[word1] = 1\n",
        "            else:\n",
        "                uni_all[word1] += 1\n",
        "    for i in range(len(line)-1):\n",
        "        word1 = re.sub('[,.-?!\"\\']', '', line[i])\n",
        "        word2 = re.sub('[,.-?!\"\\']', '', line[i+1])\n",
        "        if word1 in stop_words:\n",
        "            continue\n",
        "        if word2 in stop_words:\n",
        "            continue\n",
        "        bi = word1,word2\n",
        "        if bi not in bi_real.keys():\n",
        "            bi_real[bi] = 1\n",
        "        else:\n",
        "            bi_real[bi] += 1\n",
        "        if  bi not in bi_all.keys():\n",
        "            bi_all[bi] = 1\n",
        "        else:\n",
        "            bi_all[bi] += 1\n"
      ],
      "execution_count": null,
      "outputs": []
    },
    {
      "cell_type": "code",
      "metadata": {
        "id": "YKBXqPg9nAbd",
        "outputId": "0e11ba3e-f374-4553-8c0d-5f9a9d92664d"
      },
      "source": [
        "real_prior =(real_line / (real_line + fake_line))\n",
        "fake_prior =(fake_line / (real_line + fake_line))\n",
        "\n",
        "print(\"Real news prior: \" ,  real_prior)\n",
        "print(\"Fake news prior: \" , fake_prior)"
      ],
      "execution_count": null,
      "outputs": [
        {
          "output_type": "stream",
          "text": [
            "Real news prior:  0.4973707932692308\n",
            "Fake news prior:  0.5026292067307693\n"
          ],
          "name": "stdout"
        }
      ]
    },
    {
      "cell_type": "code",
      "metadata": {
        "id": "qWdPk-vanAbd"
      },
      "source": [
        "#Find word counts for unigram and bigram\n",
        "\n",
        "\n",
        "all_uni_real = 0\n",
        "for v in uni_real.values():\n",
        "    all_uni_real += v\n",
        "\n",
        "all_uni_fake = 0\n",
        "for v in uni_fake.values():\n",
        "    all_uni_fake += v\n",
        "\n",
        "\n",
        "all_bi_real = 0\n",
        "for v in bi_real.values():\n",
        "    all_bi_real += v\n",
        "\n",
        "all_bi_fake = 0\n",
        "for v in bi_fake.values():\n",
        "    all_bi_fake += v"
      ],
      "execution_count": null,
      "outputs": []
    },
    {
      "cell_type": "code",
      "metadata": {
        "id": "oOazWr0XnAbd"
      },
      "source": [
        "prob_uni_real = {}\n",
        "prob_uni_fake = {}\n",
        "all_lines = 0  #number of articles\n",
        "predicted_labels_uni = []\n",
        "\n",
        "for key,value in df_validation_text.iteritems():\n",
        "    prob_real = 1\n",
        "    prob_fake = 1\n",
        "    all_lines += 1\n",
        "    line = value\n",
        "    line = line.lower()\n",
        "    line = line.rstrip(\"\\n\")\n",
        "    line = line.split(\" \")\n",
        "    for word in line:\n",
        "        word1 = re.sub('[,.-?!\"\\']', '', word) # get rid of punctuation\n",
        "\n",
        "        # Applied Lapplace smoothing to probabilities\n",
        "        if word1 not in stop_words:\n",
        "            if word1 not in uni_real.keys():\n",
        "                prob_uni_real[word1] = (0 + 1)/(all_uni_real + len(uni_all))\n",
        "            else:\n",
        "                prob_uni_real[word1] = (uni_real[word1] + 1)/(all_uni_real + len(uni_all))\n",
        "\n",
        "            if word1 not in uni_fake.keys():\n",
        "                prob_uni_fake[word1] = (0 + 1)/(all_uni_fake + len(uni_all))\n",
        "            else:\n",
        "                prob_uni_fake[word1] = (uni_fake[word1] + 1)/(all_uni_fake + len(uni_all))\n",
        "            prob_real  = (prob_real * prob_uni_real[word1])\n",
        "            prob_fake  = (prob_fake * prob_uni_fake[word1])\n",
        "\n",
        "    # Using log probabilities to avoid underflow.\n",
        "    prob_real = np.log10(prob_real * real_prior)\n",
        "    prob_fake = np.log10(prob_fake * fake_prior)\n",
        "\n",
        "    if prob_fake > prob_real:\n",
        "        predicted_labels_uni.append(1)\n",
        "    else:\n",
        "        predicted_labels_uni.append(0)"
      ],
      "execution_count": null,
      "outputs": []
    },
    {
      "cell_type": "code",
      "metadata": {
        "id": "yq9lHVyPnAbd",
        "outputId": "adc90fd3-3c02-496c-9692-c387b528e8cb"
      },
      "source": [
        "true_classified_uni = 0\n",
        "false_classified_uni = 0\n",
        "i =0\n",
        "\n",
        "for v in predicted_labels_uni:\n",
        "\n",
        "    if v == df_validation.iloc[i, 4]:\n",
        "        true_classified_uni += 1\n",
        "    else:\n",
        "        false_classified_uni += 1\n",
        "    i += 1\n",
        "\n",
        "\n",
        "print(\"Number of true classifications with unigram: \", true_classified_uni)\n",
        "print(\"Number of false classifications with unigram: \", false_classified_uni)"
      ],
      "execution_count": null,
      "outputs": [
        {
          "output_type": "stream",
          "text": [
            "Number of true classifications with unigram:  2790\n",
            "Number of false classifications with unigram:  538\n"
          ],
          "name": "stdout"
        }
      ]
    },
    {
      "cell_type": "code",
      "metadata": {
        "id": "NXbrqJiEnAbd",
        "outputId": "dee000f2-49e8-4fb2-b701-10f26570142c"
      },
      "source": [
        "prob_bi_real = {}\n",
        "prob_bi_fake = {}\n",
        "\n",
        "predicted_labels_bi=[]\n",
        "for key,value in df_validation_text.iteritems():\n",
        "    prob_real = 1\n",
        "    prob_fake = 1\n",
        "    line = value\n",
        "    line = line.lower()\n",
        "    line = line.rstrip(\"\\n\")\n",
        "    line = line.split(\" \")\n",
        "    for i in range(len(line)-1):\n",
        "        word1 = re.sub('[,.-?!\"\\']', '', line[i])\n",
        "        word2 = re.sub('[,.-?!\"\\']', '', line[i+1])\n",
        "        if word1 in stop_words:\n",
        "            continue\n",
        "        if word2 in stop_words:\n",
        "            continue\n",
        "        bi = word1,word2\n",
        "        if bi not in bi_real.keys():\n",
        "            prob_bi_real[bi] = (0 + 1)/(all_bi_real + len(bi_all))\n",
        "        else:\n",
        "            prob_bi_real[bi] = (bi_real[bi] + 1)/(all_bi_real + len(bi_all))\n",
        "\n",
        "        if bi not in bi_fake.keys():\n",
        "            prob_bi_fake[bi] = (0 + 1)/(all_bi_fake + len(bi_all))\n",
        "        else:\n",
        "            prob_bi_fake[bi] = (bi_fake[bi] + 1)/(all_bi_fake + len(bi_all))\n",
        "        prob_real  = (prob_real * prob_bi_real[bi])\n",
        "        prob_fake = (prob_fake * prob_bi_fake[bi])\n",
        "\n",
        "    prob_real = np.log10(prob_real * real_prior)\n",
        "    prob_fake = np.log10(prob_fake * fake_prior)\n",
        "\n",
        "    if prob_fake > prob_real:\n",
        "        predicted_labels_bi.append(1)\n",
        "    else:\n",
        "        predicted_labels_bi.append(0)\n",
        "\n",
        "\n",
        "\n",
        "true_classified_bi = 0\n",
        "false_classified_bi = 0\n",
        "\n",
        "i =0\n",
        "for v in predicted_labels_bi:\n",
        "    if v == df_validation.iloc[i, 4]:\n",
        "        true_classified_bi += 1\n",
        "    else:\n",
        "        false_classified_bi += 1\n",
        "    i += 1\n",
        "\n",
        "\n",
        "print(\"Number of true classifications with bigram: \", true_classified_bi)\n",
        "print(\"Number of false classifications with bigram: \", false_classified_bi)\n"
      ],
      "execution_count": null,
      "outputs": [
        {
          "output_type": "stream",
          "text": [
            "Number of true classifications with bigram:  2770\n",
            "Number of false classifications with bigram:  558\n"
          ],
          "name": "stdout"
        }
      ]
    },
    {
      "cell_type": "code",
      "metadata": {
        "id": "ZsqJtUjFnAbd",
        "outputId": "6e2a054a-9c1f-49e6-c505-10593707166a"
      },
      "source": [
        "acc_uni = 100 * (true_classified_uni / all_lines)\n",
        "print(\"Accuracy for unigram : \",acc_uni)\n",
        "\n",
        "acc_bi = 100 * (true_classified_bi / all_lines)\n",
        "print(\"Accuracy for bigram : \",acc_bi)\n"
      ],
      "execution_count": null,
      "outputs": [
        {
          "output_type": "stream",
          "text": [
            "Accuracy for unigram :  83.83413461538461\n",
            "Accuracy for bigram :  83.23317307692307\n"
          ],
          "name": "stdout"
        }
      ]
    },
    {
      "cell_type": "code",
      "metadata": {
        "id": "mLZt4hhgnAbe",
        "outputId": "b053e4ae-1b1b-4fe5-87fe-04fac5578884"
      },
      "source": [
        "\n",
        "print(\"Top 10 words in real articles\")\n",
        "\n",
        "freqs=list(uni_real.values())\n",
        "freqs.sort()\n",
        "freqs.reverse()\n",
        "top=freqs[:10]\n",
        "\n",
        "for c in uni_real:\n",
        "    if uni_real[c] in top:\n",
        "        print(c)\n",
        "\n",
        "\n",
        "freqs=list(uni_fake.values())\n",
        "freqs.sort()\n",
        "freqs.reverse()\n",
        "top=freqs[:10]\n",
        "\n",
        "print(\"\\nTop 10 words in fake articles\")\n",
        "for c in uni_fake:\n",
        "    if uni_fake[c] in top:\n",
        "        print(c)"
      ],
      "execution_count": null,
      "outputs": [
        {
          "output_type": "stream",
          "text": [
            "Top 10 words in real articles\n",
            "trump\n",
            "mr\n",
            "would\n",
            "president\n",
            "said\n",
            "new\n",
            "one\n",
            "also\n",
            "like\n",
            "people\n",
            "\n",
            "Top 10 words in fake articles\n",
            "\n",
            "clinton\n",
            "us\n",
            "one\n",
            "people\n",
            "said\n",
            "would\n",
            "hillary\n",
            "trump\n",
            "new\n"
          ],
          "name": "stdout"
        }
      ]
    }
  ]
}